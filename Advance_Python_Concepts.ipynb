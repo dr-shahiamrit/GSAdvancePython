{
 "cells": [
  {
   "cell_type": "markdown",
   "metadata": {},
   "source": [
    "```\n",
    "001\n",
    "\n",
    "What is Object Oriented Programming\n",
    "===================================\n",
    "Object oriented programming (OOP) is a programming language model organized objects rather than \"actions\" and data rather than logic.\n",
    "\n",
    "```"
   ]
  },
  {
   "cell_type": "markdown",
   "metadata": {},
   "source": [
    "```\n",
    "002\n",
    "\n",
    "Concepts of OOP\n",
    "1. Encapsulation\n",
    "\n",
    "\n",
    "\n",
    "```"
   ]
  },
  {
   "cell_type": "code",
   "execution_count": null,
   "metadata": {},
   "outputs": [],
   "source": []
  }
 ],
 "metadata": {
  "language_info": {
   "name": "python"
  }
 },
 "nbformat": 4,
 "nbformat_minor": 2
}
